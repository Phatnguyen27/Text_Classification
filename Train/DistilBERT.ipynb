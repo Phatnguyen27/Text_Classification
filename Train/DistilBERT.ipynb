{
  "nbformat": 4,
  "nbformat_minor": 0,
  "metadata": {
    "accelerator": "GPU",
    "colab": {
      "name": "BERT.ipynb",
      "provenance": [],
      "collapsed_sections": []
    },
    "kernelspec": {
      "display_name": "Python 3",
      "name": "python3"
    }
  },
  "cells": [
    {
      "cell_type": "code",
      "metadata": {
        "id": "d_D-zYQqR11X"
      },
      "source": [
        "!pip install lime tensorflow\r\n",
        "!pip install transformers==2.1"
      ],
      "execution_count": null,
      "outputs": []
    },
    {
      "cell_type": "markdown",
      "metadata": {
        "id": "Db-XScMPSiYl"
      },
      "source": [
        "LIBS"
      ]
    },
    {
      "cell_type": "code",
      "metadata": {
        "id": "emUnmFb9Sh4f"
      },
      "source": [
        "## for data\n",
        "import json\n",
        "import pandas as pd\n",
        "import numpy as np\n",
        "## for plotting\n",
        "import matplotlib.pyplot as plt\n",
        "import seaborn as sns\n",
        "## for processing\n",
        "import re\n",
        "import nltk\n",
        "## for explainer\n",
        "from lime import lime_text\n",
        "## for deep learning\n",
        "from tensorflow.keras import models, layers, preprocessing as kprocessing\n",
        "from tensorflow.keras import backend as K\n",
        "## for bert language model\n",
        "import transformers\n",
        "\n",
        "from sklearn import model_selection, metrics"
      ],
      "execution_count": null,
      "outputs": []
    },
    {
      "cell_type": "markdown",
      "metadata": {
        "id": "0lJIFeYiSxAP"
      },
      "source": [
        "DATASET"
      ]
    },
    {
      "cell_type": "markdown",
      "metadata": {
        "id": "-7JrBg_gUVcg"
      },
      "source": [
        "DATASET FOR TRAINING"
      ]
    },
    {
      "cell_type": "code",
      "metadata": {
        "id": "ungkdeDkTF71",
        "colab": {
          "base_uri": "https://localhost:8080/",
          "height": 532
        },
        "outputId": "1589da22-8eb3-4d87-8fc8-fd5651d0a2b4"
      },
      "source": [
        "dtf = pd.read_csv('/content/drive/My Drive/Dataset/final_dataset.csv')\n",
        "dtf = dtf.sample(frac=1).reset_index(drop=True)\n",
        "dtf = dtf.rename(columns={\"cat\":\"y\"})\n",
        "\n",
        "fig, ax = plt.subplots()\n",
        "fig.suptitle(\"y\", fontsize=12) \n",
        "dtf[\"y\"].reset_index().groupby(\"y\").count().sort_values(by= \n",
        "       \"index\").plot(kind=\"barh\", legend=False, \n",
        "        ax=ax).grid(axis='x')\n",
        "plt.show()"
      ],
      "execution_count": null,
      "outputs": [
        {
          "output_type": "stream",
          "text": [
            "        Unnamed: 0  ...                cat\n",
            "0           120583  ...           BUSINESS\n",
            "1           156798  ...           BUSINESS\n",
            "2           128793  ...  POLITICS & WORLDS\n",
            "3            54173  ...               TECH\n",
            "4            98514  ...              SPORT\n",
            "...            ...  ...                ...\n",
            "163851       74154  ...               TECH\n",
            "163852       90101  ...               TECH\n",
            "163853       13540  ...               TECH\n",
            "163854      116560  ...  POLITICS & WORLDS\n",
            "163855      108523  ...           BUSINESS\n",
            "\n",
            "[163856 rows x 3 columns]\n"
          ],
          "name": "stdout"
        },
        {
          "output_type": "display_data",
          "data": {
            "image/png": "[encoded data removed]",
            "text/plain": [
              "<Figure size 432x288 with 1 Axes>"
            ]
          },
          "metadata": {
            "tags": [],
            "needs_background": "light"
          }
        }
      ]
    },
    {
      "cell_type": "markdown",
      "metadata": {
        "id": "0uv8_NPLJdsS"
      },
      "source": [
        "\n",
        "\n",
        "```\n",
        "# This is formatted as code\n",
        "```\n",
        "\n",
        "DATAUTIL"
      ]
    },
    {
      "cell_type": "code",
      "metadata": {
        "id": "3uuo2KoaJfYH"
      },
      "source": [
        "def utils_preprocess_text(text, flg_stemm=False, flg_lemm=True, lst_stopwords=None):\n",
        "    text = re.sub(r'[^\\w\\s]', '', str(text).lower().strip())\n",
        "    lst_text = text.split()\n",
        "    if lst_stopwords is not None:\n",
        "        lst_text = [word for word in lst_text if word not in \n",
        "                    lst_stopwords]\n",
        "    if flg_stemm == True:\n",
        "        ps = nltk.stem.porter.PorterStemmer()\n",
        "        lst_text = [ps.stem(word) for word in lst_text]\n",
        "    if flg_lemm == True:\n",
        "        lem = nltk.stem.wordnet.WordNetLemmatizer()\n",
        "        lst_text = [lem.lemmatize(word) for word in lst_text]\n",
        "    text = \" \".join(lst_text)\n",
        "    return text\n",
        "    "
      ],
      "execution_count": null,
      "outputs": []
    },
    {
      "cell_type": "markdown",
      "metadata": {
        "id": "ZbZ2stDOedep"
      },
      "source": [
        "CREATING FEATURE MATRIX"
      ]
    },
    {
      "cell_type": "code",
      "metadata": {
        "id": "9BSPohe5ehg_"
      },
      "source": [
        "def create_feature_matrix(corpus):\n",
        "    tokenizer = transformers.AutoTokenizer.from_pretrained('distilbert-base-uncased', do_lower_case=True)\n",
        "    maxlen = 150\n",
        "    maxqnans = np.int((maxlen-20)/2)\n",
        "    corpus_tokenized = [\"[CLS] \"+\n",
        "             \" \".join(tokenizer.tokenize(re.sub(r'[^\\w\\s]+|\\n', '', \n",
        "             str(txt).lower().strip()))[:maxqnans])+\n",
        "             \" [SEP] \" for txt in corpus]\n",
        "    masks = [[1]*len(txt.split(\" \")) + [0]*(maxlen - len(\n",
        "           txt.split(\" \"))) for txt in corpus_tokenized]\n",
        "    txt2seq = [txt + \" [PAD]\"*(maxlen-len(txt.split(\" \"))) if len(txt.split(\" \")) != maxlen else txt for txt in corpus_tokenized]\n",
        "    idx = [tokenizer.encode(seq.split(\" \")) for seq in txt2seq]\n",
        "    segments = [] \n",
        "    for seq in txt2seq:\n",
        "        temp, i = [], 0\n",
        "        for token in seq.split(\" \"):\n",
        "            temp.append(i)\n",
        "            if token == \"[SEP]\":\n",
        "                i += 1\n",
        "        segments.append(temp)\n",
        "    feature_matrix = [np.asarray(idx, dtype='int32'), \n",
        "                      np.asarray(masks, dtype='int32'), \n",
        "                      np.asarray(segments, dtype='int32')]\n",
        "    return feature_matrix"
      ],
      "execution_count": null,
      "outputs": []
    },
    {
      "cell_type": "markdown",
      "metadata": {
        "id": "ooXKx2JJJibn"
      },
      "source": [
        "PREPROCESS"
      ]
    },
    {
      "cell_type": "code",
      "metadata": {
        "id": "_2I0vz23Jj0u",
        "colab": {
          "base_uri": "https://localhost:8080/"
        },
        "outputId": "c7326486-66be-4d01-8f72-fd9c81b14d3b"
      },
      "source": [
        "import nltk\n",
        "nltk.download('stopwords')\n",
        "nltk.download('wordnet')"
      ],
      "execution_count": null,
      "outputs": [
        {
          "output_type": "stream",
          "text": [
            "[nltk_data] Downloading package stopwords to /root/nltk_data...\n",
            "[nltk_data]   Unzipping corpora/stopwords.zip.\n",
            "[nltk_data] Downloading package wordnet to /root/nltk_data...\n",
            "[nltk_data]   Unzipping corpora/wordnet.zip.\n"
          ],
          "name": "stdout"
        },
        {
          "output_type": "execute_result",
          "data": {
            "text/plain": [
              "True"
            ]
          },
          "metadata": {
            "tags": []
          },
          "execution_count": 7
        }
      ]
    },
    {
      "cell_type": "code",
      "metadata": {
        "id": "7tN8HpB8Jnv-"
      },
      "source": [
        "lst_stopwords = nltk.corpus.stopwords.words(\"english\")\n",
        "lst_stopwords\n",
        "dtf[\"text_clean\"] = dtf[\"text\"].apply(lambda x: \n",
        "          utils_preprocess_text(x, flg_stemm=False, flg_lemm=True, \n",
        "          lst_stopwords=lst_stopwords))\n",
        "dtf.head()\n",
        "dtf_train, dtf_test = model_selection.train_test_split(dtf, test_size=0.01)\n",
        "y_train = dtf_train[\"y\"].values\n",
        "y_test = dtf_test[\"y\"].values"
      ],
      "execution_count": null,
      "outputs": []
    },
    {
      "cell_type": "code",
      "metadata": {
        "id": "pt8KvDp8b0Gs",
        "colab": {
          "base_uri": "https://localhost:8080/"
        },
        "outputId": "4f538c6a-8e1a-4824-8640-1829944e325a"
      },
      "source": [
        "print('Raw text')\r\n",
        "print(dtf['text'][4].split('.')[0])\r\n",
        "print(dtf['text'][4].split('.')[1])\r\n",
        "print(dtf['text'][4].split('.')[2])\r\n",
        "print('Clean text')\r\n",
        "print(dtf['text_clean'][4])"
      ],
      "execution_count": null,
      "outputs": [
        {
          "output_type": "stream",
          "text": [
            "Raw text\n",
            "This is a rotten time for moral victories\n",
            " Like it or not, the New York Giants received one Sunday\n",
            " While their playoff hopes took another hit when their rally \n",
            "Clean text\n",
            "rotten time moral victory like new york giant received one sunday playoff hope took another hit rally\n"
          ],
          "name": "stdout"
        }
      ]
    },
    {
      "cell_type": "code",
      "metadata": {
        "id": "PobWe9KUOjnU",
        "colab": {
          "base_uri": "https://localhost:8080/"
        },
        "outputId": "2cf73343-be73-4f74-9def-aab6fbb46ad6"
      },
      "source": [
        "X_train = create_feature_matrix(dtf_train['text_clean'])"
      ],
      "execution_count": null,
      "outputs": [
        {
          "output_type": "stream",
          "text": [
            "100%|██████████| 231508/231508 [00:00<00:00, 10536986.65B/s]\n"
          ],
          "name": "stderr"
        }
      ]
    },
    {
      "cell_type": "code",
      "metadata": {
        "id": "SdlUf0FINigh",
        "colab": {
          "base_uri": "https://localhost:8080/"
        },
        "outputId": "fffee26e-e8a1-4060-a0fa-2370d0677a68"
      },
      "source": [
        "## inputs\n",
        "idx = layers.Input((150), dtype=\"int32\", name=\"input_idx\")\n",
        "masks = layers.Input((150), dtype=\"int32\", name=\"input_masks\")\n",
        "config = transformers.DistilBertConfig(dropout=0.2, \n",
        "           attention_dropout=0.2)\n",
        "config.output_hidden_states = False\n",
        "nlp = transformers.TFDistilBertModel.from_pretrained('distilbert-base-uncased', config=config)\n",
        "bert_out = nlp(idx, attention_mask=masks)[0]\n",
        "x = layers.GlobalAveragePooling1D()(bert_out)\n",
        "x = layers.Dense(64, activation=\"relu\")(x)\n",
        "y_out = layers.Dense(len(np.unique(y_train)), activation='softmax')(x)\n",
        "model = models.Model([idx, masks], y_out)\n",
        "for layer in model.layers[:3]:\n",
        "    layer.trainable = False\n",
        "model.compile(loss='sparse_categorical_crossentropy', \n",
        "              optimizer='adam', metrics=['accuracy'])\n",
        "model.summary()"
      ],
      "execution_count": null,
      "outputs": [
        {
          "output_type": "stream",
          "text": [
            "100%|██████████| 363423424/363423424 [00:07<00:00, 50536854.45B/s]\n"
          ],
          "name": "stderr"
        },
        {
          "output_type": "stream",
          "text": [
            "Model: \"functional_1\"\n",
            "__________________________________________________________________________________________________\n",
            "Layer (type)                    Output Shape         Param #     Connected to                     \n",
            "==================================================================================================\n",
            "input_idx (InputLayer)          [(None, 150)]        0                                            \n",
            "__________________________________________________________________________________________________\n",
            "input_masks (InputLayer)        [(None, 150)]        0                                            \n",
            "__________________________________________________________________________________________________\n",
            "tf_distil_bert_model (TFDistilB ((None, 150, 768),)  66362880    input_idx[0][0]                  \n",
            "                                                                 input_masks[0][0]                \n",
            "__________________________________________________________________________________________________\n",
            "global_average_pooling1d (Globa (None, 768)          0           tf_distil_bert_model[0][0]       \n",
            "__________________________________________________________________________________________________\n",
            "dense (Dense)                   (None, 64)           49216       global_average_pooling1d[0][0]   \n",
            "__________________________________________________________________________________________________\n",
            "dense_1 (Dense)                 (None, 5)            325         dense[0][0]                      \n",
            "==================================================================================================\n",
            "Total params: 66,412,421\n",
            "Trainable params: 49,541\n",
            "Non-trainable params: 66,362,880\n",
            "__________________________________________________________________________________________________\n"
          ],
          "name": "stdout"
        }
      ]
    },
    {
      "cell_type": "markdown",
      "metadata": {
        "id": "V99EYQ1YO_iL"
      },
      "source": [
        "TRAIN"
      ]
    },
    {
      "cell_type": "code",
      "metadata": {
        "id": "4fuCEJNwPAwL"
      },
      "source": [
        "## encode y\n",
        "dic_y_mapping = {n:label for n,label in \n",
        "                 enumerate(np.unique(y_train))}\n",
        "inverse_dic = {v:k for k,v in dic_y_mapping.items()}\n",
        "y_train = np.array([inverse_dic[y] for y in y_train])\n"
      ],
      "execution_count": null,
      "outputs": []
    },
    {
      "cell_type": "code",
      "metadata": {
        "id": "Rlvt1dz_YvoY",
        "colab": {
          "base_uri": "https://localhost:8080/"
        },
        "outputId": "c935c1d2-5c48-4f26-b580-662b62413985"
      },
      "source": [
        "## train\n",
        "training = model.fit(X_train, y_train, batch_size=64, epochs=30, shuffle=True, verbose=1, validation_split=0.3)\n",
        "model.save('/content/drive/My Drive/Models/distilBert')"
      ],
      "execution_count": null,
      "outputs": [
        {
          "output_type": "stream",
          "text": [
            "Epoch 1/30\n",
            "1434/1434 [==============================] - 729s 508ms/step - loss: 0.4592 - accuracy: 0.8399 - val_loss: 0.3905 - val_accuracy: 0.8622\n",
            "Epoch 2/30\n",
            "1434/1434 [==============================] - 732s 510ms/step - loss: 0.4032 - accuracy: 0.8573 - val_loss: 0.3630 - val_accuracy: 0.8711\n",
            "Epoch 3/30\n",
            "1434/1434 [==============================] - 733s 511ms/step - loss: 0.3863 - accuracy: 0.8628 - val_loss: 0.3538 - val_accuracy: 0.8762\n",
            "Epoch 4/30\n",
            "1434/1434 [==============================] - 733s 511ms/step - loss: 0.3729 - accuracy: 0.8667 - val_loss: 0.3463 - val_accuracy: 0.8775\n",
            "Epoch 5/30\n",
            "1434/1434 [==============================] - 733s 511ms/step - loss: 0.3645 - accuracy: 0.8696 - val_loss: 0.3381 - val_accuracy: 0.8793\n",
            "Epoch 6/30\n",
            "1434/1434 [==============================] - 731s 510ms/step - loss: 0.3556 - accuracy: 0.8725 - val_loss: 0.3348 - val_accuracy: 0.8814\n",
            "Epoch 7/30\n",
            "1434/1434 [==============================] - 732s 510ms/step - loss: 0.3511 - accuracy: 0.8746 - val_loss: 0.3301 - val_accuracy: 0.8831\n",
            "Epoch 8/30\n",
            "1434/1434 [==============================] - 732s 510ms/step - loss: 0.3453 - accuracy: 0.8765 - val_loss: 0.3301 - val_accuracy: 0.8829\n",
            "Epoch 9/30\n",
            "1434/1434 [==============================] - 732s 510ms/step - loss: 0.3409 - accuracy: 0.8769 - val_loss: 0.3280 - val_accuracy: 0.8825\n",
            "Epoch 10/30\n",
            "1434/1434 [==============================] - 733s 511ms/step - loss: 0.3367 - accuracy: 0.8800 - val_loss: 0.3269 - val_accuracy: 0.8830\n",
            "Epoch 11/30\n",
            "1434/1434 [==============================] - 733s 511ms/step - loss: 0.3341 - accuracy: 0.8796 - val_loss: 0.3265 - val_accuracy: 0.8841\n",
            "Epoch 12/30\n",
            "1434/1434 [==============================] - 732s 511ms/step - loss: 0.3298 - accuracy: 0.8808 - val_loss: 0.3260 - val_accuracy: 0.8838\n",
            "Epoch 13/30\n",
            "1434/1434 [==============================] - 732s 510ms/step - loss: 0.3266 - accuracy: 0.8825 - val_loss: 0.3247 - val_accuracy: 0.8849\n",
            "Epoch 14/30\n",
            "1434/1434 [==============================] - 732s 510ms/step - loss: 0.3230 - accuracy: 0.8826 - val_loss: 0.3287 - val_accuracy: 0.8832\n",
            "Epoch 15/30\n",
            "1434/1434 [==============================] - 733s 511ms/step - loss: 0.3211 - accuracy: 0.8848 - val_loss: 0.3303 - val_accuracy: 0.8819\n",
            "Epoch 16/30\n",
            "1434/1434 [==============================] - 732s 510ms/step - loss: 0.3207 - accuracy: 0.8841 - val_loss: 0.3248 - val_accuracy: 0.8847\n",
            "Epoch 17/30\n",
            "1434/1434 [==============================] - 732s 511ms/step - loss: 0.3183 - accuracy: 0.8841 - val_loss: 0.3239 - val_accuracy: 0.8853\n",
            "Epoch 18/30\n",
            "1434/1434 [==============================] - 731s 510ms/step - loss: 0.3176 - accuracy: 0.8853 - val_loss: 0.3194 - val_accuracy: 0.8855\n",
            "Epoch 19/30\n",
            "1434/1434 [==============================] - 732s 510ms/step - loss: 0.3145 - accuracy: 0.8853 - val_loss: 0.3253 - val_accuracy: 0.8833\n",
            "Epoch 20/30\n",
            "1434/1434 [==============================] - 731s 510ms/step - loss: 0.3124 - accuracy: 0.8866 - val_loss: 0.3250 - val_accuracy: 0.8853\n",
            "Epoch 21/30\n",
            "1434/1434 [==============================] - 731s 510ms/step - loss: 0.3099 - accuracy: 0.8876 - val_loss: 0.3220 - val_accuracy: 0.8860\n",
            "Epoch 22/30\n",
            "1434/1434 [==============================] - 731s 510ms/step - loss: 0.3096 - accuracy: 0.8882 - val_loss: 0.3215 - val_accuracy: 0.8867\n",
            "Epoch 23/30\n",
            "1434/1434 [==============================] - 731s 510ms/step - loss: 0.3059 - accuracy: 0.8895 - val_loss: 0.3265 - val_accuracy: 0.8840\n",
            "Epoch 24/30\n",
            "1434/1434 [==============================] - 733s 511ms/step - loss: 0.3060 - accuracy: 0.8882 - val_loss: 0.3269 - val_accuracy: 0.8834\n",
            "Epoch 25/30\n",
            "1434/1434 [==============================] - 733s 511ms/step - loss: 0.3038 - accuracy: 0.8889 - val_loss: 0.3240 - val_accuracy: 0.8848\n",
            "Epoch 26/30\n",
            "1434/1434 [==============================] - 732s 510ms/step - loss: 0.3016 - accuracy: 0.8908 - val_loss: 0.3236 - val_accuracy: 0.8858\n",
            "Epoch 27/30\n",
            "1434/1434 [==============================] - 733s 511ms/step - loss: 0.3012 - accuracy: 0.8902 - val_loss: 0.3236 - val_accuracy: 0.8855\n",
            "Epoch 28/30\n",
            "1434/1434 [==============================] - 732s 510ms/step - loss: 0.3003 - accuracy: 0.8910 - val_loss: 0.3223 - val_accuracy: 0.8872\n",
            "Epoch 29/30\n",
            "1434/1434 [==============================] - 732s 510ms/step - loss: 0.2992 - accuracy: 0.8906 - val_loss: 0.3238 - val_accuracy: 0.8851\n",
            "Epoch 30/30\n",
            "1434/1434 [==============================] - 731s 510ms/step - loss: 0.2983 - accuracy: 0.8912 - val_loss: 0.3241 - val_accuracy: 0.8858\n"
          ],
          "name": "stdout"
        }
      ]
    },
    {
      "cell_type": "markdown",
      "metadata": {
        "id": "qYDuXLfePD6M"
      },
      "source": [
        "TEST"
      ]
    },
    {
      "cell_type": "code",
      "metadata": {
        "id": "JIwzxLd4PDKE",
        "colab": {
          "base_uri": "https://localhost:8080/"
        },
        "outputId": "639bdbbc-638e-44fd-a32b-d2275f370051"
      },
      "source": [
        "X_test = create_feature_matrix(dtf_test['text_clean'])"
      ],
      "execution_count": null,
      "outputs": [
        {
          "output_type": "execute_result",
          "data": {
            "text/plain": [
              "[array([[  101,  4946,  3345, ...,     0,     0,     0],\n",
              "        [  101,  9706,  2047, ...,     0,     0,     0],\n",
              "        [  101, 18566, 26679, ...,     0,     0,     0],\n",
              "        ...,\n",
              "        [  101,  3782,  2600, ...,     0,     0,     0],\n",
              "        [  101,  5675,  2028, ...,     0,     0,     0],\n",
              "        [  101,  3725,  5742, ...,     0,     0,     0]], dtype=int32),\n",
              " array([[1, 1, 1, ..., 0, 0, 0],\n",
              "        [1, 1, 1, ..., 0, 0, 0],\n",
              "        [1, 1, 1, ..., 0, 0, 0],\n",
              "        ...,\n",
              "        [1, 1, 1, ..., 0, 0, 0],\n",
              "        [1, 1, 1, ..., 0, 0, 0],\n",
              "        [1, 1, 1, ..., 0, 0, 0]], dtype=int32),\n",
              " array([[0, 0, 0, ..., 1, 1, 1],\n",
              "        [0, 0, 0, ..., 1, 1, 1],\n",
              "        [0, 0, 0, ..., 1, 1, 1],\n",
              "        ...,\n",
              "        [0, 0, 0, ..., 1, 1, 1],\n",
              "        [0, 0, 0, ..., 1, 1, 1],\n",
              "        [0, 0, 0, ..., 1, 1, 1]], dtype=int32)]"
            ]
          },
          "metadata": {
            "tags": []
          },
          "execution_count": 17
        }
      ]
    },
    {
      "cell_type": "code",
      "metadata": {
        "id": "Dsyv5n8jwfpA"
      },
      "source": [
        "new_model = models.load_model('/content/drive/My Drive/Models/distilBert')\n",
        "try:\n",
        "    predicted_prob = new_model.predict(X_test, batch_size = 64)\n",
        "except:\n",
        "    predicted_prob = new_model.predict([np.asarray(X_test[0]),np.asarray(X_test[1])], batch_size = 64)"
      ],
      "execution_count": null,
      "outputs": []
    },
    {
      "cell_type": "code",
      "metadata": {
        "id": "JKSsT7mowOVo"
      },
      "source": [
        "predicted = [dic_y_mapping[np.argmax(pred)] for pred in \n",
        "             predicted_prob]"
      ],
      "execution_count": null,
      "outputs": []
    },
    {
      "cell_type": "code",
      "metadata": {
        "id": "xigk1ydEz6jx"
      },
      "source": [
        "dtf_pred = pd.DataFrame(predicted)"
      ],
      "execution_count": null,
      "outputs": []
    },
    {
      "cell_type": "code",
      "metadata": {
        "id": "KXs9LZOrzVHs"
      },
      "source": [
        "text_sample = dtf_test['text']\n",
        "expect = dtf_test['y']"
      ],
      "execution_count": null,
      "outputs": []
    },
    {
      "cell_type": "code",
      "metadata": {
        "id": "rt3vvoKMfzU1"
      },
      "source": [
        "frame = {'text': text_sample.values, 'expectation': expect.values, 'prediction': dtf_pred[0].values }\n",
        "d_t_f = pd.DataFrame(frame)"
      ],
      "execution_count": null,
      "outputs": []
    },
    {
      "cell_type": "code",
      "metadata": {
        "id": "mfZn3k1QgRhV"
      },
      "source": [
        "d_t_f.to_csv('/content/drive/My Drive/BERT/result.csv')"
      ],
      "execution_count": null,
      "outputs": []
    },
    {
      "cell_type": "code",
      "metadata": {
        "id": "buZKsQBWZapV"
      },
      "source": [
        "# bbcdtf = pd.read_csv('/content/drive/My Drive/Dataset/BBC/bbc.csv')\n",
        "# bbcdtf = bbcdtf.sample(frac=1).reset_index(drop=True)\n",
        "# bbcdtf.drop(['cat', 'Unnamed: 0'], axis = 1, inplace = True)\n",
        "# new_model = models.load_model('/content/drive/My Drive/Models/distilBert50maxlen')\n",
        "\n",
        "# predicted_prob = new_model.predict(create_feature_matrix(bbcdtf['text']), batch_size = 64)\n",
        "# predicted = []\n",
        "# i = 0\n",
        "# while (i < len(predicted_prob)):\n",
        "#     try:\n",
        "#         result = {0: 'BUSINESS', 1: 'ENTERTAINMENT', 2: 'POLITICS & WORLDS', 3: 'SPORT', 4: 'TECH'}[np.argmax(predicted_prob[i])]\n",
        "#         predicted.append(result)\n",
        "#     except:\n",
        "#         print(i)\n",
        "#         predicted.append('UNKNOWN')\n",
        "#     i = i + 1\n",
        "# predicted = pd.DataFrame(predicted)\n",
        "# frame = {'text': bbcdtf['text'], 'prediction': predicted[0].values }\n",
        "# d_t_f = pd.DataFrame(frame)\n",
        "# d_t_f.to_csv('/content/drive/My Drive/BERT/bbcresult.csv')"
      ],
      "execution_count": null,
      "outputs": []
    },
    {
      "cell_type": "code",
      "metadata": {
        "id": "WtjRhB7QfeZF"
      },
      "source": [
        "new_model = models.load_model('/content/drive/My Drive/Models/distilBert)"
      ],
      "execution_count": null,
      "outputs": []
    },
    {
      "cell_type": "code",
      "metadata": {
        "id": "qT8agSBRg_7n"
      },
      "source": [
        "predicted_prob = new_model.predict(X_test, batch_size = 64)"
      ],
      "execution_count": null,
      "outputs": []
    },
    {
      "cell_type": "code",
      "metadata": {
        "id": "-a3qe4wcft9E"
      },
      "source": [
        "predicted = []\n",
        "i = 0\n",
        "while (i < len(predicted_prob)):\n",
        "    try:\n",
        "        result = {0: 'BUSINESS', 1: 'ENTERTAINMENT', 2: 'POLITICS & WORLDS', 3: 'SPORT', 4: 'TECH'}[np.argmax(predicted_prob[i])]\n",
        "        predicted.append(result)\n",
        "    except:\n",
        "        print(i)\n",
        "        predicted.append('UNKNOWN')\n",
        "    i = i + 1\n",
        "predicted = pd.DataFrame(predicted)"
      ],
      "execution_count": null,
      "outputs": []
    },
    {
      "cell_type": "code",
      "metadata": {
        "id": "QMThQr_OiSzp"
      },
      "source": [
        "frame = {'text': dtf_test['text'], 'prediction': predicted[0].values }\n",
        "d_t_f = pd.DataFrame(frame)"
      ],
      "execution_count": null,
      "outputs": []
    },
    {
      "cell_type": "code",
      "metadata": {
        "id": "LwCvTATUkROO"
      },
      "source": [
        "classes = np.unique(y_test)"
      ],
      "execution_count": null,
      "outputs": []
    },
    {
      "cell_type": "code",
      "metadata": {
        "id": "CfJyUT55kTM9"
      },
      "source": [
        "y_test_array = pd.get_dummies(y_test, drop_first=False).values"
      ],
      "execution_count": null,
      "outputs": []
    },
    {
      "cell_type": "code",
      "metadata": {
        "colab": {
          "base_uri": "https://localhost:8080/",
          "height": 573
        },
        "id": "TAGzVzHviw0t",
        "outputId": "7526a239-d79b-449f-c3a0-53d9f7ab267f"
      },
      "source": [
        "cm = metrics.confusion_matrix(y_test, predicted)\n",
        "fig, ax = plt.subplots()\n",
        "sns.heatmap(cm, annot=True, fmt='d', ax=ax, cmap=plt.cm.Blues, \n",
        "            cbar=False)\n",
        "ax.set(xlabel=\"Pred\", ylabel=\"True\", xticklabels=classes, \n",
        "       yticklabels=classes, title=\"Confusion matrix\")\n",
        "plt.yticks(rotation=0)\n",
        "\n",
        "fig, ax = plt.subplots(nrows=1, ncols=2)\n",
        "## Plot roc\n",
        "for i in range(len(classes)):\n",
        "    fpr, tpr, thresholds = metrics.roc_curve(y_test_array[:,i],  \n",
        "                           predicted_prob[:,i])\n",
        "    ax[0].plot(fpr, tpr, lw=3, \n",
        "              label='{0} (area={1:0.2f})'.format(classes[i], \n",
        "                              metrics.auc(fpr, tpr))\n",
        "               )\n",
        "ax[0].plot([0,1], [0,1], color='navy', lw=3, linestyle='--')\n",
        "ax[0].set(xlim=[-0.05,1.0], ylim=[0.0,1.05], \n",
        "          xlabel='False Positive Rate', \n",
        "          ylabel=\"True Positive Rate (Recall)\", \n",
        "          title=\"Receiver operating characteristic\")\n",
        "ax[0].legend(loc=\"lower right\")\n",
        "ax[0].grid(True)\n",
        "    \n",
        "## Plot precision-recall curve\n",
        "for i in range(len(classes)):\n",
        "    precision, recall, thresholds = metrics.precision_recall_curve(\n",
        "                 y_test_array[:,i], predicted_prob[:,i])\n",
        "    ax[1].plot(recall, precision, lw=3, \n",
        "               label='{0} (area={1:0.2f})'.format(classes[i], \n",
        "                                  metrics.auc(recall, precision))\n",
        "              )\n",
        "ax[1].set(xlim=[0.0,1.05], ylim=[0.0,1.05], xlabel='Recall', \n",
        "          ylabel=\"Precision\", title=\"Precision-Recall curve\")\n",
        "ax[1].legend(loc=\"best\")\n",
        "ax[1].grid(True)\n",
        "plt.show()"
      ],
      "execution_count": null,
      "outputs": [
        {
          "output_type": "display_data",
          "data": {
            "image/png": "[encoded data removed]",
            "text/plain": [
              "<Figure size 432x288 with 1 Axes>"
            ]
          },
          "metadata": {
            "tags": [],
            "needs_background": "light"
          }
        },
        {
          "output_type": "display_data",
          "data": {
            "image/png": "[encoded data removed]",
            "text/plain": [
              "<Figure size 432x288 with 2 Axes>"
            ]
          },
          "metadata": {
            "tags": [],
            "needs_background": "light"
          }
        }
      ]
    }
  ]
}